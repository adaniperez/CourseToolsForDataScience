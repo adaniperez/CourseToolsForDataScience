{
 "cells": [
  {
   "cell_type": "markdown",
   "id": "58eab2d7",
   "metadata": {},
   "source": [
    "# Data Science Tools and Ecosystem"
   ]
  },
  {
   "cell_type": "markdown",
   "id": "37c3308c",
   "metadata": {},
   "source": [
    "## Author\n",
    "Carmen Perez"
   ]
  },
  {
   "cell_type": "markdown",
   "id": "01bcda42",
   "metadata": {},
   "source": [
    "**Objectives**\n",
    "\n",
    "- Most used languages in Data Science\n",
    "- Most used libraries used by Data Scientists\n",
    "- Ordered lists in Markdown cells"
   ]
  },
  {
   "cell_type": "markdown",
   "id": "c8d42cdb",
   "metadata": {},
   "source": [
    "In this notebook, Data Science Tools and Ecosystem are summarized."
   ]
  },
  {
   "cell_type": "markdown",
   "id": "1122e576",
   "metadata": {},
   "source": [
    "Some of the popular languages that Data Scientists use are:\n",
    "\n",
    "1. Python\n",
    "2. R\n",
    "3. Julia\n",
    "4. Scala\n",
    "5. Jana"
   ]
  },
  {
   "cell_type": "markdown",
   "id": "2cd86075",
   "metadata": {},
   "source": [
    "Some of the commonly used libraries used by Data Scientists include:\n",
    "\n",
    "1. Pandas\n",
    "2. Numpy\n",
    "3. ggplot\n",
    "4. caret\n",
    "5. Seaborn"
   ]
  },
  {
   "cell_type": "markdown",
   "id": "1cd517ee",
   "metadata": {},
   "source": [
    "| Data Sicence Tools |\n",
    "| --- |\n",
    "| Anaconda |\n",
    "| RStudio |\n",
    "| Google Colaboratory |"
   ]
  },
  {
   "cell_type": "markdown",
   "id": "47005a8e",
   "metadata": {},
   "source": [
    "### Below are a few examples of evaluating arithmetic expressions in Python"
   ]
  },
  {
   "cell_type": "code",
   "execution_count": 4,
   "id": "01e23109",
   "metadata": {},
   "outputs": [
    {
     "data": {
      "text/plain": [
       "17"
      ]
     },
     "execution_count": 4,
     "metadata": {},
     "output_type": "execute_result"
    }
   ],
   "source": [
    "# This is a simple arithmetic expression to multiply then add integers\n",
    "(3*4)+5"
   ]
  },
  {
   "cell_type": "code",
   "execution_count": 7,
   "id": "13c881af",
   "metadata": {},
   "outputs": [
    {
     "data": {
      "text/plain": [
       "3.3333333333333335"
      ]
     },
     "execution_count": 7,
     "metadata": {},
     "output_type": "execute_result"
    }
   ],
   "source": [
    "#This will convert 200 minutes to hours by dividing by 60\n",
    "minutes = 200\n",
    "hours = minutes/60\n",
    "hours"
   ]
  },
  {
   "cell_type": "code",
   "execution_count": null,
   "id": "58228b8f",
   "metadata": {},
   "outputs": [],
   "source": []
  }
 ],
 "metadata": {
  "kernelspec": {
   "display_name": "Python 3 (ipykernel)",
   "language": "python",
   "name": "python3"
  },
  "language_info": {
   "codemirror_mode": {
    "name": "ipython",
    "version": 3
   },
   "file_extension": ".py",
   "mimetype": "text/x-python",
   "name": "python",
   "nbconvert_exporter": "python",
   "pygments_lexer": "ipython3",
   "version": "3.9.7"
  }
 },
 "nbformat": 4,
 "nbformat_minor": 5
}
